{
 "cells": [
  {
   "cell_type": "markdown",
   "metadata": {},
   "source": [
    "# Autoformalism with LLMs\n",
    "\n",
    "Formalism for mathematics is the process of translating a mathematical theorem or proof into fully formal logic.  In practice, the target of the translation is ussually a proof assistant language like Coq, Isabelle, or Lean, which encode formal logic in a manner that can be checked by a computer.  This notebook is a hands on tutorial for how to achieve this formalism automatically with Large Language Models (LLMs). \n",
    "\n",
    "We will closely follow the paper [Autoformalism with Large Language Models](https://arxiv.org/abs/2205.12615) (Wu et al.) with the execption that we will be using GPT-4 and Llama3 as our langauge model instead of Palm and Codex.\n",
    "\n",
    "\n",
    "## Setup\n",
    "You must put a file `.env` in the same directory as this notebook with the following contents:\n",
    "```\n",
    "OPENAI_API_KEY=<your_openai_api_key>\n",
    "REPLICATE_API_TOKEN=<your_replicate_api_token>\n",
    "```\n",
    "replacing <your_...> with the actual keys provided by OpenAI and Replicate.  If you only want to run one of the APIs (e.g. only GPT-4 and not Llama3 on replicate) you can provide only the relevant key."
   ]
  },
  {
   "cell_type": "code",
   "execution_count": 1,
   "metadata": {},
   "outputs": [],
   "source": [
    "import re\n",
    "from dataclasses import dataclass, asdict\n",
    "import os\n",
    "from dotenv import load_dotenv\n",
    "\n",
    "# must come before importing openai and replicate\n",
    "load_dotenv()\n",
    "\n",
    "import openai \n",
    "import replicate \n",
    "\n",
    "from ml4math.datasets import MiniF2F, MiniF2FQuestion"
   ]
  },
  {
   "cell_type": "markdown",
   "metadata": {},
   "source": [
    "----\n",
    "## MiniF2F Dataset\n",
    "\n",
    "We will look at the [MiniF2F dataset](https://github.com/facebookresearch/miniF2F/tree/main) which contains mathematical statements together with their formalized statements.  Since we have a pairing of informal and formal mathematics we can do two things:\n",
    "\n",
    "1. We can use these pairing to create few-shot examples for translating form informal to formal mathematics.\n",
    "2. We can use these pairing to evaluate how well the LLMs can translate informal to formal mathematics.\n",
    "\n",
    "First let's load the dataset and look at an example to get a feel for the data."
   ]
  },
  {
   "cell_type": "code",
   "execution_count": 2,
   "metadata": {},
   "outputs": [
    {
     "name": "stdout",
     "output_type": "stream",
     "text": [
      "Number of statements in the dataset: 488\n"
     ]
    }
   ],
   "source": [
    "minif2f = MiniF2F()\n",
    "\n",
    "print(f\"Number of statements in the dataset: {len(minif2f)}\")"
   ]
  },
  {
   "cell_type": "markdown",
   "metadata": {},
   "source": [
    "There are 488 statements from the dataset.  Let's see what a single example looks like."
   ]
  },
  {
   "cell_type": "code",
   "execution_count": 3,
   "metadata": {},
   "outputs": [
    {
     "data": {
      "text/plain": [
       "MiniF2FQuestion(formal_statement='(*\\n  Authors: Albert Qiaochu Jiang\\n*)\\n\\ntheory mathd_algebra_11 imports\\n  Complex_Main\\nbegin\\n\\ntheorem mathd_algebra_11:\\n  fixes a b :: real\\n  assumes h0 : \"a \\\\<noteq> b\"\\n    and h1 : \"a \\\\<noteq> 2 * b\"\\n    and h2 : \"(4*a+3*b) / (a-2*b) = 5\"\\n  shows \"(a+11*b) / (a-b) = 2\"\\nproof -\\n  have p0:\"a-b \\\\<noteq> 0\" using h0 by simp\\n  have \"a-2*b \\\\<noteq> 0\" using h1 by simp\\n  hence \"(4*a+3*b) = 5 * (a-2*b)\" using h2\\n    by (metis Groups.mult_ac(2) nonzero_mult_div_cancel_left times_divide_eq_right)\\n  also have \"5 * (a-2*b) = 5 * a - 10 * b\" by simp\\n  ultimately have \"4*a+3*b = 5 * a - 10 * b\" by simp\\n  hence h3: \"a=13*b\" by linarith\\n  have \"a + 11 * b = 2 * (a-b)\" using p0 \\n    unfolding h3 by auto\\n  then show ?thesis using p0\\n    by force\\nqed\\n\\nend', informal_statement='What is the simplified numerical value of $\\\\frac{a+11b}{a-b}$ if $\\\\frac{4a+3b}{a-2b}=5$? Show that it is 2.', informal_proof=\"Let's play with the given condition a little. Clearing out the denominator gives $4a+3b=5(a-2b)=5a-10b$. Selectively combine like terms by adding $9b-4a$ to both sides to get $12b=a-b$. This gives $\\\\dfrac{12b}{a-b}=1$.\\n\\nNow, we want to find $\\\\dfrac{a+11b}{a-b}$. Rewrite this as $\\\\dfrac{a-b+12b}{a-b}=\\\\dfrac{a-b}{a-b}+\\\\dfrac{12b}{a-b}=1+1=2$, and we are done.\", formal_proof=None, id='mathd_algebra_11')"
      ]
     },
     "execution_count": 3,
     "metadata": {},
     "output_type": "execute_result"
    }
   ],
   "source": [
    "minif2f[0]"
   ]
  },
  {
   "cell_type": "markdown",
   "metadata": {},
   "source": [
    "An example is an dataclass of type `MiniF2FQuestion`.  Let's look at what types of fields are in this dataclass."
   ]
  },
  {
   "cell_type": "code",
   "execution_count": 4,
   "metadata": {},
   "outputs": [
    {
     "name": "stdout",
     "output_type": "stream",
     "text": [
      "MiniF2F Question fields:\n",
      " - formal_statement\n",
      " - informal_statement\n",
      " - informal_proof\n",
      " - formal_proof\n",
      " - id\n"
     ]
    }
   ],
   "source": [
    "print(\"MiniF2F Question fields:\")\n",
    "for field in minif2f[0].__dataclass_fields__.keys():\n",
    "    print(f\" - {field}\")"
   ]
  },
  {
   "cell_type": "markdown",
   "metadata": {},
   "source": [
    "Let's checkout what the formal and informal statements looks like"
   ]
  },
  {
   "cell_type": "code",
   "execution_count": 5,
   "metadata": {},
   "outputs": [
    {
     "name": "stdout",
     "output_type": "stream",
     "text": [
      "Informal Statement: \n",
      "For any real number a, show that $10a \\leq 28a^2 + 1$.\n",
      "\n",
      "\n",
      "\n",
      "Formal Statement: \n",
      "(*\n",
      "  Authors: Albert Qiaochu Jiang\n",
      "*)\n",
      "\n",
      "theory algebra_binomnegdiscrineq_10alt28asqp1 imports\n",
      "  Complex_Main\n",
      "begin\n",
      "\n",
      "theorem algebra_binomnegdiscrineq_10alt28asqp1:\n",
      "  fixes a :: real\n",
      "  shows \"10 * a \\<le> 28 * a^2 + 1\"\n",
      "  sorry\n",
      "\n",
      "end\n"
     ]
    }
   ],
   "source": [
    "\n",
    "print(\"Informal Statement: \\n\" + minif2f[1].informal_statement)\n",
    "print(\"\\n\\n\")\n",
    "print(\"Formal Statement: \\n\" + minif2f[1].formal_statement)"
   ]
  },
  {
   "cell_type": "markdown",
   "metadata": {},
   "source": [
    "We see the informal statement asks us to show that for any real number $a$, that $$10a \\leq 28a^2 + 1$$  The formal statement is written in the proof assistant language of [Isabelle](https://isabelle.in.tum.de/).  It starts with a comment, which declares the author, next it declares an import to bring in some libraries for dealing with complex numbers, and finally it states the question as a theorem in Isabelle's language.\n",
    "\n",
    "Note the use of `sorry` in the theorem, which is just a place holder indicating that we don't have a proof for this theorem yet."
   ]
  },
  {
   "cell_type": "markdown",
   "metadata": {},
   "source": [
    "-----\n",
    "## Autoformalism \n",
    "**Goal:** Translate the informal statement into the formal statement.\n",
    "\n",
    "Now that we've seen an example of a formal statement and the corresponding informal statement, we can understand our actual goal better.  We'd like an LLM to take the informal statement and automatically translate it to the corresponding formal statement, written in Isabelle code.  \n",
    "\n",
    "\n",
    "**Approach**\n",
    "\n",
    "1. Clean up the formal statements to remove imports and comments.\n",
    "2. Generate a prompt for few-shot examples\n",
    "3. Use an API to prompt an LLM to translate the informal statement to the formal statement."
   ]
  },
  {
   "cell_type": "markdown",
   "metadata": {},
   "source": [
    "#### Step 1: Clean up the formal statements"
   ]
  },
  {
   "cell_type": "code",
   "execution_count": 6,
   "metadata": {},
   "outputs": [],
   "source": [
    "def remove_content_before_theorem(formal_statement: str) -> str:\n",
    "    \"\"\"Removes all the content before the theorem statement.\"\"\"\n",
    "    for line_number, line in enumerate(formal_statement.splitlines()):\n",
    "        if re.search(r\"^\\s*theorem\", line):\n",
    "            return \"\\n\".join(formal_statement.splitlines()[line_number:])\n",
    "    return formal_statement\n",
    "\n",
    "def remove_content_after_theorem_shows(formal_statement: str) -> str:\n",
    "    \"\"\"Remove the content after the shows statement in the theorem.\n",
    "\n",
    "    Note:\n",
    "        This is not applicable to metamath or hollight datasets.\n",
    "    \"\"\"\n",
    "    for line_number, line in enumerate(formal_statement.splitlines()):\n",
    "        if re.search(r\"^\\s*shows\", line):\n",
    "            return \"\\n\".join(formal_statement.splitlines()[: line_number + 1])\n",
    "    return formal_statement\n",
    "\n",
    "\n",
    "def remove_theorem_name(formal_statement: str) -> str:\n",
    "    \"\"\"Removes the theorem name from the formal statement.\"\"\"\n",
    "    return re.sub(r\"(.*theorem).*(?:|$)\", r\"\\1\", formal_statement, re.M)\n",
    "\n",
    "\n",
    "\n",
    "def clean_formal_statement(formal_statement:str)->str:\n",
    "    \"\"\"Clean the formal statement.\"\"\" \n",
    "    formal_statement = remove_content_before_theorem(formal_statement)\n",
    "    formal_statement = remove_content_after_theorem_shows(formal_statement)\n",
    "    formal_statement = remove_theorem_name(formal_statement)\n",
    "    return formal_statement"
   ]
  },
  {
   "cell_type": "markdown",
   "metadata": {},
   "source": [
    "Let's check the cleaning process"
   ]
  },
  {
   "cell_type": "code",
   "execution_count": 7,
   "metadata": {},
   "outputs": [
    {
     "name": "stdout",
     "output_type": "stream",
     "text": [
      "--------------------Original Formal Statement--------------------\n",
      "(*\n",
      "  Authors: Albert Qiaochu Jiang\n",
      "*)\n",
      "\n",
      "theory algebra_binomnegdiscrineq_10alt28asqp1 imports\n",
      "  Complex_Main\n",
      "begin\n",
      "\n",
      "theorem algebra_binomnegdiscrineq_10alt28asqp1:\n",
      "  fixes a :: real\n",
      "  shows \"10 * a \\<le> 28 * a^2 + 1\"\n",
      "  sorry\n",
      "\n",
      "end\n",
      "--------------------Cleaned Formal Statement--------------------\n",
      "theorem\n",
      "  fixes a :: real\n",
      "  shows \"10 * a \\<le> 28 * a^2 + 1\"\n"
     ]
    }
   ],
   "source": [
    "example = minif2f[1]\n",
    "print('-'*20 + \"Original Formal Statement\" + '-'*20)\n",
    "print(example.formal_statement)\n",
    "print('-'*20 + \"Cleaned Formal Statement\" + '-'*20)\n",
    "print(clean_formal_statement(example.formal_statement))"
   ]
  },
  {
   "cell_type": "markdown",
   "metadata": {},
   "source": [
    "Technically every theorem in Isabelle needs a unique name, but we don't want the arbitary naming choices to effect our evaluation so we just strip the names of the theorems.  Let's move one to generating a few shot prompt."
   ]
  },
  {
   "cell_type": "markdown",
   "metadata": {},
   "source": [
    "### Step 2: Generate a prompt for few-shot examples\n",
    "\n",
    "We want to stay consistent with the [Autoformalism with Large Language Models](https://arxiv.org/abs/2205.12615) paper so we need to use the same questions they used for the few-shot examples.  To do this, we searched the MiniF2F dataset manually to match find the questions used in the prompt, shown in the paper's appendix.  We compiled these question ids into a list and will use them to generate the few-shot examples.\n",
    "\n",
    "One other consideration is that the MiniF2F dataset covers different topics, like algebra and number theory.  In the paper they use subject specific prompts, so we will do the same.  This also means we will need to filter the dataset to only include the questions from the specific subject we are interested in, for a given prompt."
   ]
  },
  {
   "cell_type": "code",
   "execution_count": 8,
   "metadata": {},
   "outputs": [],
   "source": [
    "@dataclass(frozen=True)\n",
    "class FEWSHOTIDS:\n",
    "    \"\"\"IDS of the few-shot learning examples used in the paper\n",
    "\n",
    "    We found these by copying snippets of the questions from the paper appendix and\n",
    "    searching the dataset for matching questions.  See the accompying notebook\n",
    "    `find_fewshot_ids.ipynb` for more details.\n",
    "    \"\"\"\n",
    "\n",
    "    algebra: tuple[str, ...] = (\n",
    "        \"mathd_algebra_245\",\n",
    "        \"mathd_algebra_76\",\n",
    "        \"mathd_algebra_478\",\n",
    "        \"mathd_algebra_338\",\n",
    "        \"mathd_algebra_422\",\n",
    "        \"mathd_algebra_43\",\n",
    "        \"mathd_algebra_756\",\n",
    "        \"mathd_algebra_149\",\n",
    "        \"mathd_algebra_48\",\n",
    "        \"mathd_algebra_410\",\n",
    "    )\n",
    "\n",
    "    numbertheory: tuple[str, ...] = (\n",
    "        \"mathd_numbertheory_709\",\n",
    "        \"mathd_numbertheory_461\",\n",
    "        \"mathd_numbertheory_466\",\n",
    "        \"mathd_numbertheory_257\",\n",
    "        \"mathd_numbertheory_34\",\n",
    "        \"mathd_numbertheory_780\",\n",
    "        \"mathd_numbertheory_233\",\n",
    "        \"mathd_numbertheory_764\",\n",
    "        \"mathd_numbertheory_345\",\n",
    "        \"mathd_numbertheory_227\",\n",
    "    )\n"
   ]
  },
  {
   "cell_type": "markdown",
   "metadata": {},
   "source": [
    "##### Filter dataset to specific subject\n",
    "\n",
    "We'll now filter to the algebra and number theory questions that come from the [MATH](https://github.com/hendrycks/math/) dataset.  This is the original set of questions used in the paper."
   ]
  },
  {
   "cell_type": "code",
   "execution_count": 9,
   "metadata": {},
   "outputs": [],
   "source": [
    "alg_full = [x for x in minif2f if 'mathd_algebra' in x.id]\n",
    "num_full = [x for x in minif2f if 'mathd_numbertheory' in x.id]\n"
   ]
  },
  {
   "cell_type": "markdown",
   "metadata": {},
   "source": [
    "##### Create Fewshot questions"
   ]
  },
  {
   "cell_type": "code",
   "execution_count": 10,
   "metadata": {},
   "outputs": [],
   "source": [
    "def get_fewshot_examples(dataset, ids):\n",
    "    examples = [x for x in dataset if x.id in ids]\n",
    "    return sorted(examples, key=lambda x: ids.index(x.id))\n",
    "\n",
    "def remove_fewshot_examples(dataset, ids):\n",
    "    return [x for x in dataset if x.id not in ids]\n",
    "    \n",
    "\n",
    "alg_fewshot = get_fewshot_examples(alg_full, FEWSHOTIDS.algebra)\n",
    "alg = remove_fewshot_examples(alg_full, FEWSHOTIDS.algebra)\n",
    "\n",
    "num_fewshot = get_fewshot_examples(num_full, FEWSHOTIDS.numbertheory)\n",
    "num = remove_fewshot_examples(num_full, FEWSHOTIDS.numbertheory)\n",
    "\n",
    "assert len(alg_fewshot) == len(FEWSHOTIDS.algebra)\n",
    "assert len(alg_full) == len(alg) + len(alg_fewshot)\n",
    "assert len(num_fewshot) == len(FEWSHOTIDS.numbertheory)\n",
    "assert len(num_full) == len(num) + len(num_fewshot)"
   ]
  },
  {
   "cell_type": "markdown",
   "metadata": {},
   "source": [
    "##### Prompt Helpers\n",
    "\n",
    "We make some helper functions to go from questions to fully formated prompts."
   ]
  },
  {
   "cell_type": "code",
   "execution_count": 11,
   "metadata": {},
   "outputs": [],
   "source": [
    "def make_fewshot_messages(fewshot_examples:list[MiniF2FQuestion])->list[dict]:\n",
    "    \"\"\"Takes a list of example questions and returns a list of messages for a chat style LLM.\n",
    "    \n",
    "    Args:\n",
    "        fewshot_examples (list[MiniF2FQuestion]): Few-shot examples to be used.\n",
    "\n",
    "    Returns:\n",
    "        list[dict]: A list of chatbot style messages. \n",
    "    \"\"\"\n",
    "    messages = []\n",
    "    for example in fewshot_examples:\n",
    "        user_msg = {\n",
    "            \"role\": \"user\",\n",
    "            \"content\": example.informal_statement,\n",
    "        }\n",
    "        ai_msg = {\n",
    "            \"role\": \"assistant\",\n",
    "            \"content\": clean_formal_statement(example.formal_statement),\n",
    "        }\n",
    "        messages.append(user_msg)\n",
    "        messages.append(ai_msg)\n",
    "    return messages\n",
    "\n",
    "\n",
    "def system_message()->dict:\n",
    "    return {\n",
    "        \"role\": \"system\",\n",
    "        \"content\": (\"Translate the following natural language math problem to the Isabelle theorem proving language.  \"\n",
    "                    \"Do not provide a proof of the statement. Use dilligence when translating the problem and make \"\n",
    "                    \"certain you capture all the necessary assumptions as hypotheses.\"),\n",
    "    }\n",
    "\n",
    "def prompt_messages(question:MiniF2FQuestion, few_shot_examples:list[MiniF2FQuestion])->list[dict]:\n",
    "    \"\"\"Returns a list of messages for the chat style LLM.\n",
    "    \n",
    "    Args:\n",
    "        question (MiniF2FQuestion): The question to be answered.\n",
    "        few_shot_examples (list[MiniF2FQuestion]): Few-shot examples to be used.\n",
    "\n",
    "    Returns:\n",
    "        list[dict]: A list chatbot style messages. \n",
    "    \"\"\"\n",
    "    messages = []\n",
    "    messages.append(system_message())\n",
    "    messages.extend(make_fewshot_messages(few_shot_examples))\n",
    "    user_msg = {\n",
    "        \"role\": \"user\",\n",
    "        \"content\": question.informal_statement,\n",
    "    }\n",
    "    messages.append(user_msg)\n",
    "    return messages\n",
    "\n",
    "\n",
    "def convert_messages_to_llama3(messages: list[dict]) -> str:\n",
    "    \"\"\"Convert a list of messages to a llama3 string.\n",
    "\n",
    "    See:\n",
    "        https://llama.meta.com/docs/model-cards-and-prompt-formats/meta-llama-3/\n",
    "\n",
    "    Args:\n",
    "        messages (list[dict]): A list of messages.\n",
    "\n",
    "    Returns:\n",
    "        str: The llama3 string.\n",
    "    \"\"\"\n",
    "    HEADER_START = \"<|start_header_id|>\"\n",
    "    HEADER_END = \"<|end_header_id|>\"\n",
    "    role_template = HEADER_START + \"{role}\" + HEADER_END + \"\\n\\n\"\n",
    "    llama3 = []\n",
    "    llama3.append(\"<|begin_of_text|>\")\n",
    "    for message in messages:\n",
    "        msg = role_template.format(role=message[\"role\"])\n",
    "        msg += message[\"content\"]\n",
    "        msg += \"<|eot_id|>\"\n",
    "        llama3.append(msg)\n",
    "\n",
    "    llama3.append(role_template.format(role=\"assistant\"))\n",
    "    return \"\".join(llama3)\n"
   ]
  },
  {
   "cell_type": "markdown",
   "metadata": {},
   "source": [
    "Let's check the prompt to make sure it looks good."
   ]
  },
  {
   "cell_type": "code",
   "execution_count": 12,
   "metadata": {},
   "outputs": [
    {
     "data": {
      "text/plain": [
       "[{'role': 'system',\n",
       "  'content': 'Translate the following natural language math problem to the Isabelle theorem proving language.  Do not provide a proof of the statement. Use dilligence when translating the problem and make certain you capture all the necessary assumptions as hypotheses.'},\n",
       " {'role': 'user',\n",
       "  'content': 'Simplify $\\\\left( \\\\frac{4}{x} \\\\right)^{-1} \\\\left( \\\\frac{3x^3}{x} \\\\right)^2 \\\\left( \\\\frac{1}{2x} \\\\right)^{-3}$. Show that it is 18x^8.'},\n",
       " {'role': 'assistant',\n",
       "  'content': 'theorem\\n  fixes x :: real\\n  assumes h0 : \"x \\\\<noteq> 0\"\\n  shows \"1/(4/x) * ((3*x^3)/x)^2 * (1/(1 / (2 * x)))^3 = 18 * x^8\"'},\n",
       " {'role': 'user',\n",
       "  'content': 'For integers $n$, let \\\\[f(n) = \\\\left\\\\{\\n\\\\begin{array}{cl}\\nn^2 & \\\\text{ if }n\\\\text{ is odd}, \\\\\\\\\\nn^2 - 4n - 1 & \\\\text{ if }n\\\\text{ is even}.\\n\\\\end{array}\\n\\\\right.\\\\]Find $f(f(f(f(f(4)))))$. Show that it is 1.'},\n",
       " {'role': 'assistant',\n",
       "  'content': 'theorem\\n  fixes f :: \"int \\\\<Rightarrow> int\"\\n  assumes \"\\\\<forall>n. odd n \\\\<longrightarrow> f n = n^2\"\\n    and \"\\\\<forall> n. even n \\\\<longrightarrow> f n = n^2 - 4*n -1\" \\n  shows \"f 4 = -1\"'},\n",
       " {'role': 'user',\n",
       "  'content': 'The volume of a cone is given by the formula $V = \\\\frac{1}{3}Bh$, where $B$ is the area of the base and $h$ is the height. The area of the base of a cone is 30 square units, and its height is 6.5 units. What is the number of cubic units in its volume? Show that it is 65.'},\n",
       " {'role': 'assistant',\n",
       "  'content': 'theorem\\n  fixes b h v ::real\\n  assumes \"0 < b \\\\<and> 0 < h \\\\<and> 0 < v\"\\n      and \"v = 1 / 3 * (b * h)\"\\n      and \"b = 30\"\\n      and \"h = 13 / 2\"\\n    shows \"v = 65\"'},\n",
       " {'role': 'user',\n",
       "  'content': 'If $3a + b + c = -3, a+3b+c = 9, a+b+3c = 19$, then find $abc$. Show that it is -56.'},\n",
       " {'role': 'assistant',\n",
       "  'content': 'theorem\\n  fixes a b c :: real\\n  assumes \"3 * a + b + c = -3\"\\n    and \"a + 3 * b + c = 9\"\\n    and \"a + b + 3 * c = 19\" \\n  shows \"a * b * c = -56\"'},\n",
       " {'role': 'user',\n",
       "  'content': 'If $f(x)=5x-12$, find a value for $x$ so that $f^{-1}(x)=f(x+1)$. Show that it is \\\\frac{47}{24}.'},\n",
       " {'role': 'assistant',\n",
       "  'content': 'theorem\\n  fixes x :: real and \\\\<sigma>::\"real \\\\<Rightarrow> real\"\\n  assumes \"bij \\\\<sigma>\"\\n    and \\\\<sigma>:\"\\\\<forall> x. \\\\<sigma> x = 5 * x - 12\"\\n    and \"\\\\<sigma> (x + 1) = (Hilbert_Choice.inv \\\\<sigma>) x\" \\n  shows \"x = 47 / 24\"'},\n",
       " {'role': 'user',\n",
       "  'content': 'What is the $x$-coordinate for the $x$-intercept of the line containing the points $(7,4)$ and $(6,3)$? Show that it is 3.'},\n",
       " {'role': 'assistant',\n",
       "  'content': 'theorem\\n  fixes a b :: real\\n    and f :: \"real \\\\<Rightarrow> real\"\\n  assumes h0 : \"\\\\<And>x. f x = a * x + b\"\\n    and h1 : \"f 7 = 4\"\\n    and h2 : \"f 6 = 3\"\\n  shows \"f 3 = 0\"'},\n",
       " {'role': 'user',\n",
       "  'content': 'Given $2^a = 32$ and $a^b = 125$ find $b^a$. Show that it is 243.'},\n",
       " {'role': 'assistant',\n",
       "  'content': 'theorem\\n  fixes a b :: real\\n  assumes \"2 powr a = 32\"\\n    and \"a powr b = 125\"\\n  shows \"b powr a = 243\"'},\n",
       " {'role': 'user',\n",
       "  'content': 'Let \\\\[f(x) =\\n\\\\begin{cases}\\nx^2+9 &\\\\text{if }x<-5, \\\\\\\\\\n3x-8&\\\\text{if }x\\\\ge-5.\\n\\\\end{cases}\\n\\\\]If $f(x)=10$, find the sum of all possible values of $x$. Show that it is 6.'},\n",
       " {'role': 'assistant',\n",
       "  'content': 'theorem\\n  fixes f :: \"real \\\\<Rightarrow> real\"\\n  assumes \"\\\\<forall> x < -5. f x = x^2 + 5\"\\n    and \"\\\\<forall> x \\\\<ge> -5. f x = 3 * x -8\"\\n  shows \"(\\\\<Sum> k \\\\<in> (f -` {10}). k) = 6\" '},\n",
       " {'role': 'user', 'content': 'Simplify $(9-4i)-(-3-4i)$. Show that it is 12.'},\n",
       " {'role': 'assistant',\n",
       "  'content': 'theorem\\n  fixes q e :: complex\\n  assumes h0 : \"q = Complex 9 (-4)\"\\n    and h1 : \"e = Complex (-3) (-4)\"\\n  shows \"q - e = 12\"'},\n",
       " {'role': 'user',\n",
       "  'content': 'What is the minimum possible value for $y$ in the equation $y = x^2 - 6x + 13$? Show that it is 4.'},\n",
       " {'role': 'assistant',\n",
       "  'content': 'theorem\\n  fixes x y :: real\\n  assumes h0 : \"y = x^2 - 6 * x + 13\"\\n  shows \"4 \\\\<le> y\"'},\n",
       " {'role': 'user',\n",
       "  'content': 'What is the simplified numerical value of $\\\\frac{a+11b}{a-b}$ if $\\\\frac{4a+3b}{a-2b}=5$? Show that it is 2.'}]"
      ]
     },
     "execution_count": 12,
     "metadata": {},
     "output_type": "execute_result"
    }
   ],
   "source": [
    "prompt_messages(alg[0], alg_fewshot)"
   ]
  },
  {
   "cell_type": "markdown",
   "metadata": {},
   "source": [
    "Notice the style of our few-shot prompt is in user/assistant pairs.  In the original paper the authors did not use a chat model and so put the few shot examples in a single user message. We will use the chat model style for our prompt."
   ]
  },
  {
   "cell_type": "markdown",
   "metadata": {},
   "source": [
    "### Step 3: Use GPT-4 or Llama3\n",
    "\n",
    "We will now use GPT-4 or Llama3 to translate translate the informal statements to formal Isabelle code.  \n",
    "\n",
    "**IMPORTANT!**\n",
    "\n",
    "You must set the environment variables `OPENAI_API_KEY` and `REPLICATE_API_TOKEN` to use the OpenAI and Replicate APIs.  You can get an OpenAI API key by signing up at [OpenAI](https://platform.openai.com/).  You can get a Replicate API token by signing up at [Replicate](https://replicate.com/).  Set these by putting them in a `.env` file in the same directory as this notebook.  See the setup section in the introduction of this notebook for more details"
   ]
  },
  {
   "cell_type": "code",
   "execution_count": 13,
   "metadata": {},
   "outputs": [],
   "source": [
    "@dataclass\n",
    "class CONFIG:\n",
    "    model: str \n",
    "    temperature: float = 0.0\n",
    "    max_tokens: int = 512\n",
    "    top_p: float = 1.0\n",
    "\n",
    "\n",
    "\n",
    "\n",
    "def call_openai(messages, **kwargs):\n",
    "    \"\"\"Calls the OpenAI API with the given message and kwargs.\"\"\" \n",
    "    client = openai.Client()\n",
    "    response = client.chat.completions.create(\n",
    "        messages=messages,\n",
    "        **kwargs\n",
    "    )\n",
    "    return response\n",
    "\n",
    "\n",
    "def call_replicate(prompt, **kwargs):\n",
    "    \"\"\"Calls the Replicate API with the given prompt and kwargs.\"\"\"\n",
    "    model = kwargs.pop('model')\n",
    "    kwargs.update(dict(\n",
    "        prompt=prompt,\n",
    "        prompt_template=\"{prompt}\" \n",
    "    ))\n",
    "    response = replicate.run(model, input=kwargs)\n",
    "    return response\n",
    "\n"
   ]
  },
  {
   "cell_type": "markdown",
   "metadata": {},
   "source": [
    "#### Call the API\n",
    "\n",
    "We will now call the API to get the translation of the informal statement to the formal statement.  We are only going to execute 3 examples from the algebra dataset.  To see the full results and analysis on both the algebra and number theory dataset, see our [other repository](https://github.com/agencyenterprise/autoformalism-with-llms) where we reproduce to in-context learning results from the paper [Autoformalism with Large Language Models](https://arxiv.org/abs/2205.12615) by running the entire dataset through the APIs and analyzing the results."
   ]
  },
  {
   "cell_type": "code",
   "execution_count": 14,
   "metadata": {},
   "outputs": [],
   "source": [
    "GPT4_CONFIG = CONFIG(model='gpt-4-turbo-2024-04-09')\n",
    "LLAMA3_CONFIG = CONFIG(model='meta/meta-llama-3-70b')\n",
    "\n",
    "responses = []\n",
    "\n",
    "for i in range(3):\n",
    "    example = alg[i]\n",
    "    messages = prompt_messages(example, alg_fewshot)\n",
    "    llama_prompt = convert_messages_to_llama3(messages)\n",
    "\n",
    "    try:\n",
    "        gpt4 = call_openai(messages, **asdict(GPT4_CONFIG)).choices[0].message.content\n",
    "    except Exception as e:\n",
    "        print(f\"Error calling OpenAI: {e}\")\n",
    "        gpt4 = \"ERROR\"\n",
    "    \n",
    "    try:\n",
    "        llama3 = \"\".join(call_replicate(llama_prompt, **asdict(LLAMA3_CONFIG)))\n",
    "    except Exception as e:\n",
    "        print(f\"Error calling Replicate: {e}\")\n",
    "        llama3 = \"ERROR\"\n",
    "\n",
    "    responses.append({\n",
    "        \"gpt4\": gpt4,\n",
    "        \"llama3\": llama3,\n",
    "    })"
   ]
  },
  {
   "cell_type": "code",
   "execution_count": 18,
   "metadata": {},
   "outputs": [
    {
     "name": "stdout",
     "output_type": "stream",
     "text": [
      "--------------------Original Question, Alebra 0--------------------\n",
      "What is the simplified numerical value of $\\frac{a+11b}{a-b}$ if $\\frac{4a+3b}{a-2b}=5$? Show that it is 2.\n",
      "--------------------Correct Reference Translation--------------------\n",
      "theorem\n",
      "  fixes a b :: real\n",
      "    and f :: \"real \\<Rightarrow> real\"\n",
      "  assumes h0 : \"\\<And>x. f x = x^2 + a*x + b\"\n",
      "    and h1 : \"2 * a \\<noteq> b\"\n",
      "    and h2 : \"f (2 * a) = 0\"\n",
      "    and h3 : \"f b = 0\"\n",
      "  shows \"a + b = -1\"\n",
      "--------------------GPT-4 Translation--------------------\n",
      "theorem\n",
      "  fixes a b :: real\n",
      "  assumes \"a \\<noteq> 2 * b\"\n",
      "    and \"(4 * a + 3 * b) / (a - 2 * b) = 5\"\n",
      "  shows \"(a + 11 * b) / (a - b) = 2\"\n",
      "--------------------LLAMA-3 Translation--------------------\n",
      "theorem\n",
      "  fixes a b :: real\n",
      "  assumes h0 : \"(4 * a + 3 * b) / (a - 2 * b) = 5\"\n",
      "    and h1 : \"a \\<noteq> b\"\n",
      "  shows \"(a + 11 * b) / (a - b) = 2\" \n",
      "\n",
      "\n",
      "\n",
      "--------------------Original Question, Alebra 1--------------------\n",
      "Let $f(x)=3x^4-7x^3+2x^2-bx+1$. For what value of $b$ is $f(1)=1$? Show that it is -2.\n",
      "--------------------Correct Reference Translation--------------------\n",
      "theorem\n",
      "  fixes a b :: real\n",
      "    and f :: \"real \\<Rightarrow> real\"\n",
      "  assumes h0 : \"\\<And>x. f x = x^2 + a*x + b\"\n",
      "    and h1 : \"2 * a \\<noteq> b\"\n",
      "    and h2 : \"f (2 * a) = 0\"\n",
      "    and h3 : \"f b = 0\"\n",
      "  shows \"a + b = -1\"\n",
      "--------------------GPT-4 Translation--------------------\n",
      "theorem\n",
      "  fixes f :: \"real \\<Rightarrow> real\"\n",
      "  assumes \"\\<forall>x. f x = 3*x^4 - 7*x^3 + 2*x^2 - b*x + 1\"\n",
      "    and \"f 1 = 1\"\n",
      "  shows \"b = -2\"\n",
      "--------------------LLAMA-3 Translation--------------------\n",
      "theorem\n",
      "  fixes f :: \"real \\<Rightarrow> real\"\n",
      "    and b :: real\n",
      "  assumes \"\\<forall> x. f x = 3 * x^4 - 7 * x^3 + 2 * x^2 - b * x + 1\"\n",
      "  shows \"f 1 = 1 \\<longleftrightarrow> b = -2\" \n",
      "\n",
      "\n",
      "\n",
      "--------------------Original Question, Alebra 2--------------------\n",
      "The polynomial $p(x) = x^2+ax+b$ has distinct roots $2a$ and $b$. Find $a+b$. Show that it is -1.\n",
      "--------------------Correct Reference Translation--------------------\n",
      "theorem\n",
      "  fixes a b :: real\n",
      "    and f :: \"real \\<Rightarrow> real\"\n",
      "  assumes h0 : \"\\<And>x. f x = x^2 + a*x + b\"\n",
      "    and h1 : \"2 * a \\<noteq> b\"\n",
      "    and h2 : \"f (2 * a) = 0\"\n",
      "    and h3 : \"f b = 0\"\n",
      "  shows \"a + b = -1\"\n",
      "--------------------GPT-4 Translation--------------------\n",
      "theorem\n",
      "  fixes p :: \"real \\<Rightarrow> real\"\n",
      "  assumes h0: \"\\<forall>x. p x = x^2 + a*x + b\"\n",
      "    and h1: \"poly p (2*a) = 0\"\n",
      "    and h2: \"poly p b = 0\"\n",
      "  shows \"a + b = -1\"\n",
      "--------------------LLAMA-3 Translation--------------------\n",
      "theorem\n",
      "  fixes a b :: real\n",
      "    and p :: \"real \\<Rightarrow> real\"\n",
      "  assumes h0 : \"\\<And>x. p x = x^2 + a * x + b\"\n",
      "    and h1 : \"p (2*a) = 0\"\n",
      "    and h2 : \"p b = 0\"\n",
      "    and h3 : \"b \\<noteq> 2*a\" \n",
      "  shows \"a+b = -1\" \n",
      "\n",
      "\n",
      "\n"
     ]
    }
   ],
   "source": [
    "for i, response in enumerate(responses):\n",
    "    print('-'*20 + f\"Original Question, Alebra {i}\" + '-'*20)\n",
    "    print(alg[i].informal_statement)\n",
    "    print('-'*20 + \"Correct Reference Translation\" + '-'*20)\n",
    "    print(clean_formal_statement(example.formal_statement))\n",
    "\n",
    "    response = responses[i]\n",
    "    if response['gpt4'] != 'ERROR':\n",
    "        print('-'*20 + \"GPT-4 Translation\" + '-'*20)\n",
    "        print(response['gpt4'])\n",
    "    if response['llama3'] != 'ERROR':\n",
    "        print('-'*20 + \"LLAMA-3 Translation\" + '-'*20)\n",
    "        print(response['llama3'])\n",
    "    print('\\n\\n')"
   ]
  },
  {
   "cell_type": "markdown",
   "metadata": {},
   "source": [
    "And we're done!  We've successfully used an LLM to translate informal mathematics to formal mathematics.  One of the challenging bottlenecks is there is no automatic way to evaluate the correctness of the translation.  If the code does not compile in Isabelle that's a fairly good sign that its not correct, but if it does compile then we know its *syntactically correct* but we don't know if its *semantically* correct.  Looking at the above examples, we can see that sometimes the LLM changes the hypothesis order, or names a function `p` for polynomial while the reference names it `f`.  These types of differences don't change the correctness but make the task very difficult to evaluate without human review. In the Autoformalism paper they manually review 50 examples from the Algebra and Number Theory dataset.  \n",
    "\n",
    "Note that just because autoformalism is hard to evaluate - it does not make it useless.  In the papers [Autoformalism with Large Language Models](https://arxiv.org/abs/2205.12615) and [Draft, Sketch, Prove](https://arxiv.org/abs/2210.12283) the authors use autoformalism as a step in a larger process and show the entire pipeline can beat state of the art theorem proving (at the time).  "
   ]
  },
  {
   "cell_type": "markdown",
   "metadata": {},
   "source": [
    "## Conclusion\n",
    "In this notebook we showed how one can use the MiniF2F dataset to create few-shot examples for translating informal mathematics to formal mathematics.  We followed the spirit of the  [Autoformalism with Large Language Models](https://arxiv.org/abs/2205.12615) but showed how to prompt GPT-4 and Llama3 models using a API (as a paid service).  We hope this short tutorial peaks your interest in formal methods and how it can be possible to leverage deep learning to contribute to mathetmatics and formal methods."
   ]
  },
  {
   "cell_type": "markdown",
   "metadata": {},
   "source": []
  }
 ],
 "metadata": {
  "kernelspec": {
   "display_name": "ml4math",
   "language": "python",
   "name": "python3"
  },
  "language_info": {
   "codemirror_mode": {
    "name": "ipython",
    "version": 3
   },
   "file_extension": ".py",
   "mimetype": "text/x-python",
   "name": "python",
   "nbconvert_exporter": "python",
   "pygments_lexer": "ipython3",
   "version": "3.11.5"
  }
 },
 "nbformat": 4,
 "nbformat_minor": 2
}
